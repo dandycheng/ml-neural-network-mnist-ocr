{
  "nbformat": 4,
  "nbformat_minor": 0,
  "metadata": {
    "colab": {
      "name": "Neural Network MNIST OCR.ipynb",
      "provenance": [],
      "collapsed_sections": []
    },
    "kernelspec": {
      "name": "python3",
      "display_name": "Python 3"
    },
    "accelerator": "GPU"
  },
  "cells": [
    {
      "cell_type": "code",
      "metadata": {
        "id": "UY0O5vKvS9wr",
        "outputId": "2790d827-06e8-4d31-c937-8c6f5ea95d1f",
        "colab": {
          "base_uri": "https://localhost:8080/",
          "height": 109
        }
      },
      "source": [
        "!pip install python-mnist\n",
        "\n",
        "from mnist import MNIST\n",
        "import os\n",
        "import numpy as np\n",
        "import matplotlib.pyplot as plt\n",
        "import pandas as pd\n",
        "from google.colab import files"
      ],
      "execution_count": 1,
      "outputs": [
        {
          "output_type": "stream",
          "text": [
            "Collecting python-mnist\n",
            "  Downloading https://files.pythonhosted.org/packages/64/f0/6086b84427c3bf156ec0b3c2f9dfc1d770b35f942b9ed8a64f5229776a80/python_mnist-0.7-py2.py3-none-any.whl\n",
            "Installing collected packages: python-mnist\n",
            "Successfully installed python-mnist-0.7\n"
          ],
          "name": "stdout"
        }
      ]
    },
    {
      "cell_type": "code",
      "metadata": {
        "id": "n7GoOpvDTD-M"
      },
      "source": [
        "files = ['t10k-images-idx3-ubyte.gz','train-labels-idx1-ubyte.gz','t10k-labels-idx1-ubyte.gz','train-images-idx3-ubyte.gz']\n",
        "for f in files:\n",
        "    if not os.path.isfile(f):\n",
        "        os.system(f'curl http://yann.lecun.com/exdb/mnist/{f} --output {f}')\n"
      ],
      "execution_count": 2,
      "outputs": []
    },
    {
      "cell_type": "code",
      "metadata": {
        "id": "LDPcE39GTGT2",
        "outputId": "8b68ecc9-e18a-4f43-ffd1-828fe9b54744",
        "colab": {
          "base_uri": "https://localhost:8080/",
          "height": 71
        }
      },
      "source": [
        "!gzip -d *\n",
        "!ls"
      ],
      "execution_count": 3,
      "outputs": [
        {
          "output_type": "stream",
          "text": [
            "gzip: sample_data is a directory -- ignored\n",
            "sample_data\t\tt10k-labels-idx1-ubyte\t train-labels-idx1-ubyte\n",
            "t10k-images-idx3-ubyte\ttrain-images-idx3-ubyte\n"
          ],
          "name": "stdout"
        }
      ]
    },
    {
      "cell_type": "code",
      "metadata": {
        "id": "ggpeJhgOTL3S"
      },
      "source": [
        "class Activation:\n",
        "    @staticmethod\n",
        "    def sigmoid(z,derivative=False):\n",
        "        if derivative:\n",
        "            return z * (1 - z)\n",
        "        return 1 / (1 + np.exp(-z))\n",
        "\n",
        "    @staticmethod\n",
        "    def softmax(z):\n",
        "        return np.exp(z) / np.exp(z).sum()"
      ],
      "execution_count": 4,
      "outputs": []
    },
    {
      "cell_type": "code",
      "metadata": {
        "id": "PJ5oRWPkikis"
      },
      "source": [
        "class Normalize:\n",
        "    @staticmethod\n",
        "    def minmax(X):\n",
        "        X = np.array(X)\n",
        "        return (X - X.min()) / (X.max() - X.min())\n",
        "        \n",
        "    @staticmethod\n",
        "    def std(X):\n",
        "        X = np.array(X)\n",
        "        return (X - X.mean()) / X.std()"
      ],
      "execution_count": 5,
      "outputs": []
    },
    {
      "cell_type": "code",
      "metadata": {
        "id": "0eXKgD-hbrH7"
      },
      "source": [
        "class Data:\n",
        "    def __init__(self,train_x,train_y,test_x=None,test_y=None):\n",
        "        [self.init_train_x,self.init_train_y] = [train_x,train_y]\n",
        "        [self.train_x,self.train_y] = [np.array(train_x),np.array(train_y)]\n",
        "        [self.test_x,self.test_y] = [np.array(test_x),np.array(test_y)]\n",
        "\n",
        "        self.m = len(train_x)\n",
        "        self.m1 = len(test_x)\n",
        "        self.x_len = len(train_x[0])\n",
        "        self.classes = len(set(train_y))\n",
        "        self.mini_batch = False\n",
        "        self.ohe = False\n",
        "        self.k = self.m\n",
        "\n",
        "    def create_batches(self,k):\n",
        "        if not self.mini_batch:\n",
        "            self.mini_batch = True\n",
        "            self.k = k\n",
        "            self.batch_size = int(self.m / self.k)\n",
        "            self.train_x = self.train_x.reshape((k,self.batch_size,self.x_len))\n",
        "            self.train_y = self.train_y.reshape((k,self.batch_size,self.classes if self.ohe else 1))\n",
        "        else:\n",
        "            raise Exception('Batches are already created')\n",
        "    \n",
        "    def use_ohe(self):\n",
        "        if self.mini_batch:\n",
        "            new_y = np.zeros((self.k,self.batch_size,self.classes))\n",
        "            for i,batch_y in enumerate(self.train_y):\n",
        "                for j,y in enumerate(batch_y):\n",
        "                    new_y[i][j][y] = 1\n",
        "            self.train_y = new_y\n",
        "        else:\n",
        "            new_y = np.zeros((self.m,self.classes))\n",
        "            for i,y in enumerate(self.train_y):\n",
        "                new_y[i][y] = 1\n",
        "            self.train_y = new_y\n",
        "        self.ohe = True"
      ],
      "execution_count": 6,
      "outputs": []
    },
    {
      "cell_type": "code",
      "metadata": {
        "id": "MBJ8Sp54V1cb"
      },
      "source": [
        "class Model:\n",
        "    def __init__(self,layers,data):\n",
        "        self.layers = layers\n",
        "        self.L = len(layers) - 1\n",
        "        self.data = data\n",
        "        self.r = 1e-2\n",
        "        self.n_epochs = 0\n",
        "        self.cum_epochs = 0     # Cumulative epochs\n",
        "        self.cost_hist = []\n",
        "        self.grad_hist = []\n",
        "        self.train_acc = []\n",
        "        self.test_acc = []\n",
        "        \n",
        "        # Initialize nodes and deltas\n",
        "        self.A = [np.ones((s + int(l < self.L),1),dtype=np.float128) for l,s in enumerate(layers)]\n",
        "        self.D = self.A.copy()\n",
        "        \n",
        "        # Initialize weights with Xavier initialization\n",
        "        self.T = []\n",
        "        for i,l in enumerate(layers[:-1]):\n",
        "            eps = np.sqrt(6) / np.sqrt(l + layers[i + 1])\n",
        "            thetaVec = np.random.uniform(low=-eps,high=eps,size=(layers[i + 1],l + 1))\n",
        "            thetaVec.dtype = np.float64\n",
        "            self.T.append(thetaVec)\n",
        "        \n",
        "        self.G = self.T.copy()\n",
        "\n",
        "    def __log_loss(self,y):\n",
        "        if self.data.ohe:\n",
        "            y = y.reshape(y.size,1)\n",
        "\n",
        "        return (y * np.log(self.A[self.L]) + (1 - y) * np.log(1 - self.A[self.L])).sum()\n",
        "\n",
        "    def feedforward(self,x,eps=0):\n",
        "        self.A[0][1:] = x.reshape(self.data.x_len,1)\n",
        "        for l in range(self.L):\n",
        "            self.A[l + 1][int(l < self.L - 1):] = Activation.sigmoid((self.T[l] + eps) @ self.A[l]) if l < self.L - 1 else Activation.softmax((self.T[l] + eps) @ self.A[l])\n",
        "        \n",
        "\n",
        "    def calc_error(self,y):\n",
        "        for l in range(self.L,0,-1):\n",
        "            if l == self.L:\n",
        "                self.D[l] = self.A[l] - y\n",
        "            else:\n",
        "                self.D[l] = (self.T[l].T @ self.D[l + 1][int(l < self.L - 1):]) * Activation.sigmoid(self.A[l],True)\n",
        "                self.D[l][0] = self.D[l + 1].sum()\n",
        "    \n",
        "\n",
        "    def J(self,loss,r,eps = 0):\n",
        "        thetaSum = sum([(self.T[l] + eps).sum() ** 2 for l in range(self.L - 1)])\n",
        "        return (-1 / self.data.k) * loss + (r / (2 * self.data.k)) * thetaSum\n",
        "    \n",
        "\n",
        "    def check_gradient(self,x,y,eps):\n",
        "        self.feedforward(x,eps)\n",
        "        loss1 = self.__log_loss(y)\n",
        "        j_plus = self.J(loss1,self.r,eps)\n",
        "\n",
        "        self.feedforward(x,-eps)\n",
        "        loss2 = self.__log_loss(y)\n",
        "        j_minus = self.J(loss2,self.r,eps)\n",
        "\n",
        "        return (j_plus - j_minus) / (2 * eps)\n",
        "\n",
        "\n",
        "    def update_weights(self,r):\n",
        "        rVec = self.T.copy()\n",
        "        rSum = []\n",
        "        for x in range(len(rVec)):\n",
        "            rVec[x][:,0] = 0\n",
        "            rSum.append(rVec[x].sum())\n",
        "        rSum = sum(rSum)\n",
        "            \n",
        "        for l in range(self.L - 1):\n",
        "            self.T[l] -= (self.lr / self.data.k) * (self.A[l] @ self.D[l + 1][int(l < self.L - 1):].T).T + (r * rSum)\n",
        "\n",
        "    \n",
        "    def lr_decay(self,rate):\n",
        "        self.lr *= rate ** np.sqrt(self.cum_epochs)\n",
        "        \n",
        "\n",
        "\n",
        "    def train(self,lr,r,decay_rate=1,epochs=10,check_grad=False,calc_cost=False,eps=0,accuracy_threshold=1.5):\n",
        "        self.lr = lr\n",
        "        self.r = r\n",
        "        self.n_epochs = 0\n",
        "\n",
        "        while self.n_epochs < epochs:\n",
        "            print(f\"=====================================================\")\n",
        "            print(f\"(Epoch {self.n_epochs})\")\n",
        "            print(f\"Cumulative epochs: {self.cum_epochs}\")\n",
        "            self.update_accuracy()\n",
        "            loss = 0\n",
        "            for batch_x,batch_y in zip(self.data.train_x,self.data.train_y):\n",
        "                for x,y in zip(batch_x,batch_y):\n",
        "                    self.feedforward(x,eps)\n",
        "                    self.calc_error(y if not self.data.ohe else y.reshape(self.data.classes,1))\n",
        "                    self.update_weights(r)\n",
        "\n",
        "                    if calc_cost:\n",
        "                        loss += self.__log_loss(y)\n",
        "                \n",
        "                if calc_cost:\n",
        "                    self.cost_hist.append(self.J(loss,r,eps))\n",
        "                if check_grad:\n",
        "                    self.grad_hist.append(self.check_gradient(x,y,eps))\n",
        "            accuracy_diff = abs(self.train_acc[-1] - self.test_acc[-1])\n",
        "            if accuracy_diff >= accuracy_threshold:\n",
        "                return\n",
        "\n",
        "            self.update_accuracy()\n",
        "            print(f\"Training accuracy: {self.train_acc[-1]}\\nTest accuracy: {self.test_acc[-1]}\")\n",
        "            print(f\"=====================================================\\n\")\n",
        "                \n",
        "            self.n_epochs += 1\n",
        "            self.cum_epochs += 1\n",
        "            self.lr_decay(decay_rate)   \n",
        "\n",
        "    def predict(self,x,y,show_output=False):\n",
        "        self.feedforward(x)\n",
        "\n",
        "        if type(y) == np.ndarray:\n",
        "            return [np.argmax(self.A[self.L]).sum(),np.argmax(y)]\n",
        "        else:\n",
        "            return [np.argmax(self.A[self.L]).sum(),y]\n",
        "            \n",
        "    \n",
        "    def update_accuracy(self):\n",
        "        train = np.zeros(10)\n",
        "        for x,y in zip(self.data.init_train_x,self.data.init_train_y):\n",
        "            [output,expected] = self.predict(x,y)\n",
        "            if output == expected:\n",
        "                train[output] += 1\n",
        "        self.train_acc.append(sum(train) / self.data.m * 100)\n",
        "\n",
        "        test = np.zeros(10)\n",
        "        for x,y in zip(self.data.test_x,self.data.test_y):\n",
        "            [output,expected] = self.predict(x,y)\n",
        "            if output == expected:\n",
        "                test[output] += 1\n",
        "        self.test_acc.append(sum(test) / self.data.m1 * 100)\n",
        "\n",
        "\n",
        "    def summary(self):\n",
        "        text = f\"Epochs: {self.n_epochs}\\nTotal epochs: {self.cum_epochs}\\nLearning rate: {nn.lr}\\nTraining accuracy: {self.train_acc[-1]}\\nTest accuracy: {self.test_acc[-1]}\"\n",
        "        print(text)\n",
        "        if len(self.cost_hist) > 0:\n",
        "            print(f\"Cost: {self.cost_hist[-1]}\")\n",
        "        if len(self.grad_hist) > 0:\n",
        "            print(f\"Gradient: {self.grad_hist[-1]}\")\n"
      ],
      "execution_count": 7,
      "outputs": []
    },
    {
      "cell_type": "markdown",
      "metadata": {
        "id": "seqBV004mO3g"
      },
      "source": [
        "# **MNIST Dataset Optical Character Recognition**\n",
        "_As the documentation will not cover the concepts of the neural network, please find the simpler version of ANN [here](https://github.com/dandycheng/ml-simple-xnor-neural-network/)._\n",
        "\n",
        "---\n",
        "\n",
        "## **Configuration**\n",
        "\n",
        "### **Layers**\n",
        ">Input layer: $(784\\times1)$<br>\n",
        "Hidden layer 1: $(80\\times1)$<br>\n",
        "Output layer: $(10\\times1)$\n",
        "\n",
        "### **Activation functions**\n",
        ">Hidden layer 1: Sigmoid<br>\n",
        "Output layer: Softmax\n",
        "\n",
        "### **Hyperparameters**\n",
        ">Learning rate: $1e-5$ to $1.5$<br>\n",
        "Regularization: $3e-5$<br>\n",
        "Batches: $10$\\\n",
        "Learning rate decay: $0.8$\n",
        "\n",
        "### **Learning rate decay**\n",
        ">$\\alpha:=\\gamma^{\\sqrt{epochs}}\\alpha$, where $\\alpha$ is the learning rate, and $\\gamma$ is the decay rate\n",
        "\n",
        "### **Weight initialization**\n",
        ">$\\sum_{l=1}^{L - 1}\\pm\\frac{\\sqrt{6}}{\\sqrt{S_l} + \\sqrt{S_{l + 1}}}$, where $L$ is the output layer, and $S_l$ is the number of nodes in layer $l$\n",
        "\n",
        "### **Normalization**\n",
        ">For all training example $(x^{(t)},y^{(t)})$, all $x^{(t)}$ were normalized using minmax:<br>\n",
        "$x^{(t)}:=\\frac{x - x_{min}}{x_{max} - x_{min}}$\n",
        "\n",
        "\n",
        "---\n",
        "\n",
        "With these configurations, it is possible to obtain a training and test accuracy of $92\\% - 94\\%$ with $14$ epochs."
      ]
    },
    {
      "cell_type": "code",
      "metadata": {
        "id": "JEE9xRbCTG4w"
      },
      "source": [
        "data = MNIST('.')\n",
        "train_images, train_labels = data.load_training()\n",
        "test_images, test_labels = data.load_testing()\n",
        "\n",
        "train_images = Normalize.minmax(train_images)\n",
        "train_images = Normalize.minmax(train_images)"
      ],
      "execution_count": 8,
      "outputs": []
    },
    {
      "cell_type": "code",
      "metadata": {
        "id": "_I71PcytXtdX"
      },
      "source": [
        "dataset = Data(train_images,train_labels,test_images,test_labels)\n",
        "dataset.create_batches(10)\n",
        "dataset.use_ohe()\n",
        "\n",
        "nn = Model([784,70,10],dataset)"
      ],
      "execution_count": 32,
      "outputs": []
    },
    {
      "cell_type": "code",
      "metadata": {
        "id": "OeoAXw3qpPY0"
      },
      "source": [
        "nn.train(1e-5,3e-5,decay_rate=1,epochs=5,check_grad=True,calc_cost=True,eps=1e-4,accuracy_threshold=2)"
      ],
      "execution_count": null,
      "outputs": []
    },
    {
      "cell_type": "code",
      "metadata": {
        "id": "vLWlV5S8v_Q8",
        "outputId": "f6583efd-7d75-4c0a-baf5-5062de012174",
        "colab": {
          "base_uri": "https://localhost:8080/",
          "height": 421
        }
      },
      "source": [
        "nn.summary()\n",
        "x_axis = [nn.cost_hist,nn.grad_hist]\n",
        "y_label = [\"Cost\",\"Gradient\"]\n",
        "title = [\"Network cost\",\"Gradient\"]\n",
        "\n",
        "fig = plt.figure(figsize=(10,4))\n",
        "for i,y in enumerate(y_label):\n",
        "    fig.subplots_adjust(wspace=0.3)\n",
        "    fig.add_subplot(1,2,i + 1)\n",
        "    plt.xlabel(\"Iterations\")\n",
        "    plt.ylabel(y)\n",
        "    plt.title(title[i])\n",
        "    plt.plot(x_axis[i])"
      ],
      "execution_count": 35,
      "outputs": [
        {
          "output_type": "stream",
          "text": [
            "Epochs: 2\n",
            "Total epochs: 17\n",
            "Learning rate: 1e-05\n",
            "Training accuracy: 93.98166666666667\n",
            "Test accuracy: 92.94\n",
            "Cost: 4355.187787671641\n",
            "Gradient: -0.2917810843630333\n"
          ],
          "name": "stdout"
        },
        {
          "output_type": "display_data",
          "data": {
            "image/png": "[encoded data removed]",
            "text/plain": [
              "<Figure size 720x288 with 2 Axes>"
            ]
          },
          "metadata": {
            "tags": [],
            "needs_background": "light"
          }
        }
      ]
    },
    {
      "cell_type": "code",
      "metadata": {
        "id": "an4ojN3GrkIc",
        "outputId": "07cc2344-3b22-4650-a26c-6df051700301",
        "colab": {
          "base_uri": "https://localhost:8080/",
          "height": 422
        }
      },
      "source": [
        "plt.figure(figsize=(10,6))\n",
        "plt.title('Model accuracy')\n",
        "plt.xlabel('Iterations')\n",
        "plt.ylabel('Accuracy')\n",
        "plt.plot(nn.train_acc,label=\"Train\")\n",
        "plt.plot(nn.test_acc,label=\"Test\")\n",
        "plt.legend(loc=\"lower right\")"
      ],
      "execution_count": 43,
      "outputs": [
        {
          "output_type": "execute_result",
          "data": {
            "text/plain": [
              "<matplotlib.legend.Legend at 0x7f17f64b5550>"
            ]
          },
          "metadata": {
            "tags": []
          },
          "execution_count": 43
        },
        {
          "output_type": "display_data",
          "data": {
            "image/png": "[encoded data removed]",
            "text/plain": [
              "<Figure size 720x432 with 1 Axes>"
            ]
          },
          "metadata": {
            "tags": [],
            "needs_background": "light"
          }
        }
      ]
    }
  ]
}