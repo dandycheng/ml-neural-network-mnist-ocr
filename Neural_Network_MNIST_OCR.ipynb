{
  "nbformat": 4,
  "nbformat_minor": 0,
  "metadata": {
    "colab": {
      "name": "Neural Network MNIST OCR.ipynb",
      "provenance": [],
      "collapsed_sections": []
    },
    "kernelspec": {
      "name": "python3",
      "display_name": "Python 3"
    },
    "accelerator": "GPU"
  },
  "cells": [
    {
      "cell_type": "code",
      "metadata": {
        "id": "UY0O5vKvS9wr",
        "outputId": "01d966db-3c1a-4c24-af18-c8645fe2425c",
        "colab": {
          "base_uri": "https://localhost:8080/",
          "height": 35
        }
      },
      "source": [
        "!pip install python-mnist\n",
        "\n",
        "from mnist import MNIST\n",
        "import os\n",
        "import numpy as np\n",
        "import matplotlib.pyplot as plt\n",
        "import seaborn as sns\n",
        "import pandas as pd\n",
        "from google.colab import files"
      ],
      "execution_count": null,
      "outputs": [
        {
          "output_type": "stream",
          "text": [
            "Requirement already satisfied: python-mnist in /usr/local/lib/python3.6/dist-packages (0.7)\n"
          ],
          "name": "stdout"
        }
      ]
    },
    {
      "cell_type": "code",
      "metadata": {
        "id": "n7GoOpvDTD-M"
      },
      "source": [
        "files = ['t10k-images-idx3-ubyte.gz','train-labels-idx1-ubyte.gz','t10k-labels-idx1-ubyte.gz','train-images-idx3-ubyte.gz']\n",
        "for f in files:\n",
        "    if not os.path.isfile(f):\n",
        "        os.system(f'curl http://yann.lecun.com/exdb/mnist/{f} --output {f}')\n"
      ],
      "execution_count": null,
      "outputs": []
    },
    {
      "cell_type": "code",
      "metadata": {
        "id": "LDPcE39GTGT2",
        "outputId": "3b4e6309-6490-4386-9eb6-01d2c681e716",
        "colab": {
          "base_uri": "https://localhost:8080/",
          "height": 71
        }
      },
      "source": [
        "!gzip -d *\n",
        "!ls"
      ],
      "execution_count": null,
      "outputs": [
        {
          "output_type": "stream",
          "text": [
            "gzip: sample_data is a directory -- ignored\n",
            "sample_data\t\tt10k-labels-idx1-ubyte\t train-labels-idx1-ubyte\n",
            "t10k-images-idx3-ubyte\ttrain-images-idx3-ubyte\n"
          ],
          "name": "stdout"
        }
      ]
    },
    {
      "cell_type": "code",
      "metadata": {
        "id": "ggpeJhgOTL3S"
      },
      "source": [
        "class Activation:\n",
        "    @staticmethod\n",
        "    def sigmoid(z,derivative=False):\n",
        "        if derivative:\n",
        "            return z * (1 - z)\n",
        "        return 1 / (1 + np.exp(-z))\n",
        "\n",
        "    @staticmethod\n",
        "    def softmax(z):\n",
        "        return np.exp(z) / np.exp(z).sum()"
      ],
      "execution_count": null,
      "outputs": []
    },
    {
      "cell_type": "code",
      "metadata": {
        "id": "PJ5oRWPkikis"
      },
      "source": [
        "class Normalize:\n",
        "    @staticmethod\n",
        "    def minmax(X):\n",
        "        X = np.array(X)\n",
        "        return (X - X.min()) / (X.max() - X.min())\n",
        "        \n",
        "    @staticmethod\n",
        "    def std(X):\n",
        "        X = np.array(X)\n",
        "        return (X - X.mean()) / X.std()"
      ],
      "execution_count": null,
      "outputs": []
    },
    {
      "cell_type": "code",
      "metadata": {
        "id": "0eXKgD-hbrH7"
      },
      "source": [
        "class Data:\n",
        "    def __init__(self,train_x,train_y,test_x=None,test_y=None):\n",
        "        [self.init_train_x,self.init_train_y] = [train_x,train_y]\n",
        "        [self.train_x,self.train_y] = [np.array(train_x),np.array(train_y)]\n",
        "        [self.test_x,self.test_y] = [np.array(test_x),np.array(test_y)]\n",
        "\n",
        "        self.m = len(train_x)\n",
        "        self.m1 = len(test_x)\n",
        "        self.x_len = len(train_x[0])\n",
        "        self.classes = len(set(train_y))\n",
        "        self.mini_batch = False\n",
        "        self.ohe = False\n",
        "        self.k = self.m\n",
        "\n",
        "    def create_batches(self,k):\n",
        "        if not self.mini_batch:\n",
        "            self.mini_batch = True\n",
        "            self.k = k\n",
        "            self.batch_size = int(self.m / self.k)\n",
        "            self.train_x = self.train_x.reshape((k,self.batch_size,self.x_len))\n",
        "            self.train_y = self.train_y.reshape((k,self.batch_size,self.classes if self.ohe else 1))\n",
        "        else:\n",
        "            raise Exception('Batches are already created')\n",
        "    \n",
        "    def use_ohe(self):\n",
        "        if self.mini_batch:\n",
        "            new_y = np.zeros((self.k,self.batch_size,self.classes))\n",
        "            for i,batch_y in enumerate(self.train_y):\n",
        "                for j,y in enumerate(batch_y):\n",
        "                    new_y[i][j][y] = 1\n",
        "            self.train_y = new_y\n",
        "        else:\n",
        "            new_y = np.zeros((self.m,self.classes))\n",
        "            for i,y in enumerate(self.train_y):\n",
        "                new_y[i][y] = 1\n",
        "            self.train_y = new_y\n",
        "        self.ohe = True"
      ],
      "execution_count": null,
      "outputs": []
    },
    {
      "cell_type": "code",
      "metadata": {
        "id": "MBJ8Sp54V1cb"
      },
      "source": [
        "class Model:\n",
        "    def __init__(self,layers,data):\n",
        "        self.layers = layers\n",
        "        self.L = len(layers) - 1\n",
        "        self.data = data\n",
        "        self.r = 1e-2\n",
        "        self.n_epochs = 0\n",
        "        self.cum_epochs = 0     # Cumulative epochs\n",
        "        self.cost_hist = []\n",
        "        self.grad_hist = []\n",
        "        self.train_acc = []\n",
        "        self.test_acc = []\n",
        "        \n",
        "        # Initialize nodes and deltas\n",
        "        self.A = [np.ones((s + int(l < self.L),1),dtype=np.float128) for l,s in enumerate(layers)]\n",
        "        self.D = self.A.copy()\n",
        "        \n",
        "        # Initialize weights with Xavier initialization\n",
        "        self.T = []\n",
        "        for i,l in enumerate(layers[:-1]):\n",
        "            eps = np.sqrt(6) / np.sqrt(l + layers[i + 1])\n",
        "            thetaVec = np.random.uniform(low=-eps,high=eps,size=(layers[i + 1],l + 1))\n",
        "            thetaVec.dtype = np.float64\n",
        "            self.T.append(thetaVec)\n",
        "        \n",
        "        self.G = self.T.copy()\n",
        "\n",
        "    def __log_loss(self,y):\n",
        "        if self.data.ohe:\n",
        "            y = y.reshape(y.size,1)\n",
        "\n",
        "        return (y * np.log(self.A[self.L]) + (1 - y) * np.log(1 - self.A[self.L])).sum()\n",
        "\n",
        "    def feedforward(self,x,eps=0):\n",
        "        self.A[0][1:] = x.reshape(self.data.x_len,1)\n",
        "        for l in range(self.L):\n",
        "            self.A[l + 1][int(l < self.L - 1):] = Activation.sigmoid((self.T[l] + eps) @ self.A[l]) if l < self.L - 1 else Activation.softmax((self.T[l] + eps) @ self.A[l])\n",
        "        \n",
        "\n",
        "    def calc_error(self,y):\n",
        "        for l in range(self.L,0,-1):\n",
        "            if l == self.L:\n",
        "                self.D[l] = self.A[l] - y\n",
        "            else:\n",
        "                self.D[l] = (self.T[l].T @ self.D[l + 1][int(l < self.L - 1):]) * Activation.sigmoid(self.A[l],True)\n",
        "                self.D[l][0] = self.D[l + 1].sum()\n",
        "    \n",
        "\n",
        "    def J(self,loss,r,eps = 0):\n",
        "        thetaSum = sum([(self.T[l] + eps).sum() ** 2 for l in range(self.L - 1)])\n",
        "        return (-1 / self.data.k) * loss + (r / (2 * self.data.k)) * thetaSum\n",
        "    \n",
        "\n",
        "    def check_gradient(self,x,y,eps):\n",
        "        self.feedforward(x,eps)\n",
        "        loss1 = self.__log_loss(y)\n",
        "        j_plus = self.J(loss1,self.r,eps)\n",
        "\n",
        "        self.feedforward(x,-eps)\n",
        "        loss2 = self.__log_loss(y)\n",
        "        j_minus = self.J(loss2,self.r,eps)\n",
        "\n",
        "        return (j_plus - j_minus) / (2 * eps)\n",
        "\n",
        "\n",
        "    def update_weights(self,r):\n",
        "        rVec = self.T.copy()\n",
        "        rSum = []\n",
        "        for x in range(len(rVec)):\n",
        "            rVec[x][:,0] = 0\n",
        "            rSum.append(rVec[x].sum())\n",
        "        rSum = sum(rSum)\n",
        "            \n",
        "        for l in range(self.L - 1):\n",
        "            self.T[l] -= (self.lr / self.data.k) * (self.A[l] @ self.D[l + 1][int(l < self.L - 1):].T).T + (r * rSum)\n",
        "\n",
        "    \n",
        "    def lr_decay(self,rate):\n",
        "        self.lr *= rate ** np.sqrt(self.cum_epochs)\n",
        "        \n",
        "\n",
        "\n",
        "    def train(self,lr,r,decay_rate=1,epochs=10,check_grad=False,calc_cost=False,eps=0,accuracy_threshold=1.5):\n",
        "        self.lr = lr\n",
        "        self.r = r\n",
        "        self.n_epochs = 0\n",
        "\n",
        "        while self.n_epochs < epochs:\n",
        "            print(f\"=====================================================\")\n",
        "            print(f\"(Epoch {self.n_epochs})\")\n",
        "            print(f\"Cumulative epochs: {self.cum_epochs}\")\n",
        "            self.update_accuracy()\n",
        "            loss = 0\n",
        "            for batch_x,batch_y in zip(self.data.train_x,self.data.train_y):\n",
        "                for x,y in zip(batch_x,batch_y):\n",
        "                    self.feedforward(x,eps)\n",
        "                    self.calc_error(y if not self.data.ohe else y.reshape(self.data.classes,1))\n",
        "                    self.update_weights(r)\n",
        "\n",
        "                    if calc_cost:\n",
        "                        loss += self.__log_loss(y)\n",
        "                \n",
        "                if calc_cost:\n",
        "                    self.cost_hist.append(self.J(loss,r,eps))\n",
        "                if check_grad:\n",
        "                    self.grad_hist.append(self.check_gradient(x,y,eps))\n",
        "            accuracy_diff = abs(self.train_acc[-1] - self.test_acc[-1])\n",
        "            if accuracy_diff >= accuracy_threshold:\n",
        "                return\n",
        "\n",
        "            self.update_accuracy()\n",
        "            print(f\"Training accuracy: {self.train_acc[-1]}\\nTest accuracy: {self.test_acc[-1]}\")\n",
        "            print(f\"=====================================================\\n\")\n",
        "                \n",
        "            self.n_epochs += 1\n",
        "            self.cum_epochs += 1\n",
        "            self.lr_decay(decay_rate)   \n",
        "\n",
        "    def predict(self,x,y,show_output=False):\n",
        "        self.feedforward(x)\n",
        "\n",
        "        if type(y) == np.ndarray:\n",
        "            return [np.argmax(self.A[self.L]).sum(),np.argmax(y)]\n",
        "        else:\n",
        "            return [np.argmax(self.A[self.L]).sum(),y]\n",
        "            \n",
        "    \n",
        "    def update_accuracy(self):\n",
        "        train = np.zeros(10)\n",
        "        for x,y in zip(self.data.init_train_x,self.data.init_train_y):\n",
        "            [output,expected] = self.predict(x,y)\n",
        "            if output == expected:\n",
        "                train[output] += 1\n",
        "        self.train_acc.append(sum(train) / self.data.m * 100)\n",
        "\n",
        "        test = np.zeros(10)\n",
        "        for x,y in zip(self.data.test_x,self.data.test_y):\n",
        "            [output,expected] = self.predict(x,y)\n",
        "            if output == expected:\n",
        "                test[output] += 1\n",
        "        self.test_acc.append(sum(test) / self.data.m1 * 100)\n",
        "\n",
        "\n",
        "    def summary(self):\n",
        "        text = f\"Epochs: {self.n_epochs}\\nTotal epochs: {self.cum_epochs}\\nLearning rate: {nn.lr}\\nTraining accuracy: {self.train_acc[-1]}\\nTest accuracy: {self.test_acc[-1]}\"\n",
        "        print(text)\n",
        "        if len(self.cost_hist) > 0:\n",
        "            print(f\"Cost: {self.cost_hist[-1]}\")\n",
        "        if len(self.grad_hist) > 0:\n",
        "            print(f\"Gradient: {self.grad_hist[-1]}\")\n"
      ],
      "execution_count": null,
      "outputs": []
    },
    {
      "cell_type": "markdown",
      "metadata": {
        "id": "seqBV004mO3g"
      },
      "source": [
        "# **MNIST Dataset Optical Character Recognition**\n",
        "_As the documentation will not cover the concepts of the neural network, please find the simpler version of ANN [here](https://github.com/dandycheng/ml-simple-xnor-neural-network/)._\n",
        "\n",
        "---\n",
        "\n",
        "## **Configuration**\n",
        "\n",
        "### **Layers**\n",
        ">Input layer: $(784\\times1)$<br>\n",
        "Hidden layer 1: $(80\\times1)$<br>\n",
        "Output layer: $(10\\times1)$\n",
        "\n",
        "### **Activation functions**\n",
        ">Hidden layer 1: Sigmoid<br>\n",
        "Output layer: Softmax\n",
        "\n",
        "### **Hyperparameters**\n",
        ">Learning rate: $1e-5$ to $1.5$<br>\n",
        "Regularization: $3e-5$<br>\n",
        "Batches: $10$\\\n",
        "Learning rate decay: $1$ _(Constant learning rate)_\n",
        "\n",
        "### **Learning rate decay**\n",
        ">$\\alpha:=\\gamma^{\\sqrt{epochs}}\\alpha$, where $\\alpha$ is the learning rate, and $\\gamma$ is the decay rate\n",
        "\n",
        "### **Weight initialization**\n",
        ">$\\sum_{l=1}^{L - 1}\\pm\\frac{\\sqrt{6}}{\\sqrt{S_l} + \\sqrt{S_{l + 1}}}$, where $L$ is the output layer, and $S_l$ is the number of nodes in layer $l$\n",
        "\n",
        "### **Normalization**\n",
        ">For all training example $(x^{(t)},y^{(t)})$, all $x^{(t)}$ were normalized using minmax:<br>\n",
        "$x^{(t)}:=\\frac{x - x_{min}}{x_{max} - x_{min}}$\n",
        "\n",
        "\n",
        "---\n",
        "\n",
        "With these configurations, it is possible to obtain a training and test accuracy of $92\\% - 94\\%$ with $14$ epochs."
      ]
    },
    {
      "cell_type": "code",
      "metadata": {
        "id": "JEE9xRbCTG4w"
      },
      "source": [
        "data = MNIST('.')\n",
        "train_images, train_labels = data.load_training()\n",
        "test_images, test_labels = data.load_testing()\n",
        "\n",
        "train_x = Normalize.minmax(train_images)\n",
        "test_x = Normalize.minmax(test_images)"
      ],
      "execution_count": null,
      "outputs": []
    },
    {
      "cell_type": "code",
      "metadata": {
        "id": "_I71PcytXtdX"
      },
      "source": [
        "dataset = Data(train_x,train_labels,test_x,test_labels)\n",
        "dataset.create_batches(10)\n",
        "dataset.use_ohe()\n",
        "\n",
        "nn = Model([784,70,10],dataset)"
      ],
      "execution_count": null,
      "outputs": []
    },
    {
      "cell_type": "code",
      "metadata": {
        "id": "OeoAXw3qpPY0",
        "outputId": "c56fa575-9d08-4508-c72f-0bdec6e8e90f",
        "colab": {
          "base_uri": "https://localhost:8080/",
          "height": 647
        }
      },
      "source": [
        "nn.train(2,3e-5,decay_rate=1,epochs=5,check_grad=True,calc_cost=True,eps=1e-4,accuracy_threshold=0.5)"
      ],
      "execution_count": null,
      "outputs": [
        {
          "output_type": "stream",
          "text": [
            "=====================================================\n",
            "(Epoch 0)\n",
            "Cumulative epochs: 6\n",
            "Training accuracy: 92.71666666666667\n",
            "Test accuracy: 92.62\n",
            "=====================================================\n",
            "\n",
            "=====================================================\n",
            "(Epoch 1)\n",
            "Cumulative epochs: 7\n",
            "Training accuracy: 92.785\n",
            "Test accuracy: 92.64\n",
            "=====================================================\n",
            "\n",
            "=====================================================\n",
            "(Epoch 2)\n",
            "Cumulative epochs: 8\n",
            "Training accuracy: 92.81666666666666\n",
            "Test accuracy: 92.67999999999999\n",
            "=====================================================\n",
            "\n",
            "=====================================================\n",
            "(Epoch 3)\n",
            "Cumulative epochs: 9\n",
            "Training accuracy: 92.83333333333333\n",
            "Test accuracy: 92.69\n",
            "=====================================================\n",
            "\n",
            "=====================================================\n",
            "(Epoch 4)\n",
            "Cumulative epochs: 10\n",
            "Training accuracy: 92.84\n",
            "Test accuracy: 92.72\n",
            "=====================================================\n",
            "\n"
          ],
          "name": "stdout"
        }
      ]
    },
    {
      "cell_type": "code",
      "metadata": {
        "id": "vLWlV5S8v_Q8",
        "outputId": "cba060b4-1419-4102-a06f-7ec358954bbf",
        "colab": {
          "base_uri": "https://localhost:8080/",
          "height": 421
        }
      },
      "source": [
        "nn.summary()\n",
        "x_axis = [nn.cost_hist,nn.grad_hist]\n",
        "y_label = [\"Cost\",\"Gradient\"]\n",
        "title = [\"Network cost\",\"Gradient\"]\n",
        "\n",
        "fig = plt.figure(figsize=(10,4))\n",
        "for i,y in enumerate(y_label):\n",
        "    fig.subplots_adjust(wspace=0.3)\n",
        "    fig.add_subplot(1,2,i + 1)\n",
        "    plt.xlabel(\"Iterations\")\n",
        "    plt.ylabel(y)\n",
        "    plt.title(title[i])\n",
        "    plt.plot(x_axis[i])"
      ],
      "execution_count": null,
      "outputs": [
        {
          "output_type": "stream",
          "text": [
            "Epochs: 5\n",
            "Total epochs: 11\n",
            "Learning rate: 0.01\n",
            "Training accuracy: 92.84\n",
            "Test accuracy: 92.72\n",
            "Cost: 4479.273880135781\n",
            "Gradient: -0.004226910548608473\n"
          ],
          "name": "stdout"
        },
        {
          "output_type": "display_data",
          "data": {
            "image/png": "[encoded data removed]",
            "text/plain": [
              "<Figure size 720x288 with 2 Axes>"
            ]
          },
          "metadata": {
            "tags": [],
            "needs_background": "light"
          }
        }
      ]
    },
    {
      "cell_type": "code",
      "metadata": {
        "id": "an4ojN3GrkIc",
        "outputId": "0181fed4-2819-4af1-864a-26ed9ee71d73",
        "colab": {
          "base_uri": "https://localhost:8080/",
          "height": 404
        }
      },
      "source": [
        "plt.figure(figsize=(10,6))\n",
        "plt.title('Model accuracy')\n",
        "plt.xlabel('Iterations')\n",
        "plt.ylabel('Accuracy')\n",
        "plt.plot(nn.train_acc,label=\"Train\")\n",
        "plt.plot(nn.test_acc,label=\"Test\")\n",
        "plt.legend(loc=\"lower right\")\n",
        "plt.show()"
      ],
      "execution_count": null,
      "outputs": [
        {
          "output_type": "display_data",
          "data": {
            "image/png": "[encoded data removed]",
            "text/plain": [
              "<Figure size 720x432 with 1 Axes>"
            ]
          },
          "metadata": {
            "tags": [],
            "needs_background": "light"
          }
        }
      ]
    },
    {
      "cell_type": "markdown",
      "metadata": {
        "id": "AuPI-c2NC8uY"
      },
      "source": [
        "Now we take a test image and pass it into the neural network. In this example, we take the number $7$.\n",
        "\n",
        "To predict a number, we take the following steps:\n",
        "\n",
        "1. Normalize input. In this case, we use $minmax$\n",
        "2. Feed it to the neural network by using ```nn.predict()```\n",
        "3. The ```predict()``` function will return the predicted number by utilizing the $softmax$ function."
      ]
    },
    {
      "cell_type": "code",
      "metadata": {
        "id": "tEK_q-Pfzsc_",
        "outputId": "841fc150-1b03-4e0b-dc56-a8ea9f448910",
        "colab": {
          "base_uri": "https://localhost:8080/",
          "height": 624
        }
      },
      "source": [
        "test_image_1 = np.array(test_images[0]).reshape(28,28)\n",
        "test_label_1 = test_labels[0]\n",
        "\n",
        "[predicted,actual] = nn.predict(Normalize.minmax(test_image_1),test_label_1)\n",
        "print(f\"Predicted number: {predicted}\\nActual number: {actual}\")\n",
        "print(f\"Output layer\\n{nn.A[nn.L]}\")\n",
        "plt.figure(figsize=(10,6))\n",
        "plt.title('Test image')\n",
        "sns.heatmap(test_image_1,cmap='gray_r')\n",
        "plt.show()"
      ],
      "execution_count": null,
      "outputs": [
        {
          "output_type": "stream",
          "text": [
            "Predicted number: 7\n",
            "Actual number: 7\n",
            "Output layer\n",
            "[[0.00870439]\n",
            " [0.00528639]\n",
            " [0.00671943]\n",
            " [0.01977806]\n",
            " [0.00428522]\n",
            " [0.00609562]\n",
            " [0.00858216]\n",
            " [0.92023741]\n",
            " [0.00695449]\n",
            " [0.01335683]]\n"
          ],
          "name": "stdout"
        },
        {
          "output_type": "display_data",
          "data": {
            "image/png": "[encoded data removed]",
            "text/plain": [
              "<Figure size 720x432 with 2 Axes>"
            ]
          },
          "metadata": {
            "tags": [],
            "needs_background": "light"
          }
        }
      ]
    }
  ]
}